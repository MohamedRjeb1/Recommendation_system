{
 "cells": [
  {
   "cell_type": "markdown",
   "source": [
    "Projet :      Systeme de recommmendation des parfums"
   ],
   "metadata": {
    "collapsed": false
   },
   "id": "6776ea305514fe37"
  },
  {
   "cell_type": "markdown",
   "source": [
    "1 ere etape : visualisation du data :\n"
   ],
   "metadata": {
    "collapsed": false
   },
   "id": "f5bc5ad0e90d0d4f"
  },
  {
   "cell_type": "markdown",
   "source": [
    "1.1 : visualisation du user_data:"
   ],
   "metadata": {
    "collapsed": false
   },
   "id": "1eb8755e494503b4"
  },
  {
   "cell_type": "code",
   "outputs": [],
   "source": [
    "import pandas as pd\n",
    "import matplotlib.pyplot as plt\n",
    "\n",
    "parfums_carac=pd.read_csv(r'.\\DATA\\parfums_300\\parfums_300.csv')\n",
    "avis_user=pd.read_csv(r'.\\DATA\\avis_300\\avis_300.csv')\n",
    "parfums_carac.iloc[25:40 , :]\n",
    "avis_user.head()\n",
    "\n",
    "\n",
    "\n",
    "\n",
    "parfums_carac.set_index('id',inplace=True)\n",
    "avis_user.set_index('id_utilisateur',inplace=True)\n",
    "print(parfums_carac.head())\n",
    "print(avis_user.head())\n",
    "\n",
    "\n",
    "\n",
    "\n",
    "merged_df = pd.merge(avis_user, parfums_carac, left_on='id_parfum', right_index=True, how='inner')\n",
    "\n",
    "# Group by brand name and calculate the average rating for each brand\n",
    "brand_ratings = merged_df.groupby('marque')['note'].mean()\n",
    "brand_ratings.sort_values(ascending=False,inplace=True)\n",
    "\n",
    "\n",
    "# Create the histogram\n",
    "plt.figure(figsize=(10, 6))  # Adjust figure size as needed\n",
    "brand_ratings.plot(kind='bar')\n",
    "plt.xlabel(\"Brand Name\")\n",
    "plt.ylabel(\"Average Rating\")\n",
    "plt.title(\"Average Rating per Brand\")\n",
    "plt.xticks(rotation=45, ha='right')  # Rotate x-axis labels for better readability\n",
    "plt.tight_layout() # Adjust layout to prevent labels from overlapping\n",
    "plt.show()\n",
    "\n",
    "\n",
    "\n",
    "\n",
    "# Group by brand and count the number of users for each brand\n",
    "brand_user_counts = merged_df.groupby('marque').size()\n",
    "brand_user_counts.sort_values(ascending=False,inplace=True)\n",
    "\n",
    "\n",
    "\n",
    "# Create the bar plot\n",
    "plt.figure(figsize=(10, 6))\n",
    "brand_user_counts.plot(kind='bar',)\n",
    "plt.xlabel(\"Brand Name\")\n",
    "plt.ylabel(\"Number of Users\")\n",
    "plt.title(\"Number of Users per Brand\")\n",
    "plt.xticks(rotation=45, ha='right')\n",
    "plt.tight_layout()\n",
    "plt.show()"
   ],
   "metadata": {
    "collapsed": false
   },
   "id": "e99c8793deeddf11"
  }
 ],
 "metadata": {
  "kernelspec": {
   "display_name": "Python 3",
   "language": "python",
   "name": "python3"
  },
  "language_info": {
   "codemirror_mode": {
    "name": "ipython",
    "version": 2
   },
   "file_extension": ".py",
   "mimetype": "text/x-python",
   "name": "python",
   "nbconvert_exporter": "python",
   "pygments_lexer": "ipython2",
   "version": "2.7.6"
  }
 },
 "nbformat": 4,
 "nbformat_minor": 5
}
